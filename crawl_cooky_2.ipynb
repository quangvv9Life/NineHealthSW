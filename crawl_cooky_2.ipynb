{
 "cells": [
  {
   "cell_type": "code",
   "execution_count": 14,
   "metadata": {},
   "outputs": [
    {
     "data": {
      "text/plain": [
       "'https://cooky.vn/market/canh-chua-ca-loc-bong-sung-13828'"
      ]
     },
     "execution_count": 14,
     "metadata": {},
     "output_type": "execute_result"
    }
   ],
   "source": [
    "from webdriver_manager.chrome import ChromeDriverManager\n",
    "from selenium.webdriver.chrome.service import Service\n",
    "from selenium import webdriver\n",
    "from selenium.webdriver.chrome.options import Options\n",
    "import json, os, warnings\n",
    "from bs4 import BeautifulSoup as bs\n",
    "from dataclasses import dataclass, asdict\n",
    "warnings.filterwarnings(\"ignore\")\n",
    "    \n",
    "def makeOption(headers = None, headless = False):\n",
    "    options = Options()\n",
    "    options.add_argument(\"disable-notifications\")\n",
    "    options.add_argument(\"start-maximized\")\n",
    "    if headless:\n",
    "        options.add_argument(\"headless\")\n",
    "    if headers:\n",
    "        for name, value in headers.items():\n",
    "            options.add_argument(f'--header={name}:{value}')\n",
    "\n",
    "    return options\n",
    "with open('totalProduct_1.json', 'r') as f:\n",
    "    data = json.load(f)\n",
    "data[414]['url']"
   ]
  },
  {
   "cell_type": "code",
   "execution_count": 11,
   "metadata": {},
   "outputs": [],
   "source": [
    "def get_page_source(driver, url):\n",
    "    driver.get(url)\n",
    "    page_source = driver.page_source\n",
    "    return page_source\n",
    "def parse_page(page_source):\n",
    "    soup = bs(page_source, 'html.parser')\n",
    "    ingredients = soup.find(class_ = 'container')\n",
    "    if ingredients:\n",
    "        ingredients = ingredients.find_all(class_ = 'option')\n",
    "        if ingredients:\n",
    "            ingredients = \"\\t\".join([ingredient.text.strip() for ingredient in ingredients])\n",
    "    quantities = soup.find(class_ = 'brand-into-content')\n",
    "    if quantities:\n",
    "        quantities = quantities.text.strip()\n",
    "    small_desc = soup.find(class_ = 'content-x')\n",
    "    if small_desc:\n",
    "        small_desc = small_desc.text.strip()\n",
    "    step = soup.find(class_ = 'rc-steps-box')\n",
    "    if step:\n",
    "        step = step.text.strip()\n",
    "    return ingredients, quantities, small_desc, step\n",
    "def append_jsonl_data(data, file_name):\n",
    "    with open(file_name, 'a', encoding='utf-8') as f:\n",
    "        f.write(json.dumps(data, ensure_ascii=False) + '\\n')\n"
   ]
  },
  {
   "cell_type": "code",
   "execution_count": 15,
   "metadata": {},
   "outputs": [
    {
     "name": "stdout",
     "output_type": "stream",
     "text": [
      "https://cooky.vn/market/dua-hau-khong-hat-mat-troi-do-13795\n",
      "https://cooky.vn/market/dua-hau-long-an-nguyen-trai-21431\n",
      "https://cooky.vn/market/dua-luoi-tl3-18497\n",
      "https://cooky.vn/market/dua-hau-long-an-nua-trai-21433\n",
      "https://cooky.vn/market/dua-hau-khong-hat-mat-troi-do-nguyen-trai-274\n"
     ]
    }
   ],
   "source": [
    "@dataclass\n",
    "class Product_2:\n",
    "    id: str\n",
    "    name: str\n",
    "    sub_category: str\n",
    "    category_name: str\n",
    "    image_url: str\n",
    "    ingredients: str\n",
    "    quantities: str\n",
    "    step: str\n",
    "    \n",
    "driver = webdriver.Chrome(service=Service(ChromeDriverManager().install()), options=makeOption(headless=True))\n",
    "\n",
    "for d in data[:]:\n",
    "    print(d['url'])\n",
    "    try:\n",
    "        try:\n",
    "            source = get_page_source(driver, d['url'])\n",
    "        except:\n",
    "            driver = webdriver.Chrome(service=Service(ChromeDriverManager().install()), options=makeOption(headless=True))\n",
    "            source = get_page_source(driver, d['url'])\n",
    "        ingredients, quantities, small_desc, step = parse_page(source)\n",
    "        product = Product_2(d['id'], \n",
    "                            d['name'], \n",
    "                            d['sub_category'], \n",
    "                            d['category_name'], \n",
    "                            d['image_url'], \n",
    "                            ingredients, quantities, step)\n",
    "        append_jsonl_data(asdict(product), 'totalProduct_2.jsonl')\n",
    "    except:\n",
    "        print('error at ', d['url'])\n",
    "\n",
    "driver.quit()\n"
   ]
  }
 ],
 "metadata": {
  "kernelspec": {
   "display_name": "base",
   "language": "python",
   "name": "python3"
  },
  "language_info": {
   "codemirror_mode": {
    "name": "ipython",
    "version": 3
   },
   "file_extension": ".py",
   "mimetype": "text/x-python",
   "name": "python",
   "nbconvert_exporter": "python",
   "pygments_lexer": "ipython3",
   "version": "3.9.12"
  },
  "orig_nbformat": 4
 },
 "nbformat": 4,
 "nbformat_minor": 2
}
